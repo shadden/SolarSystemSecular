{
 "cells": [
  {
   "cell_type": "code",
   "execution_count": 28,
   "id": "28338f80",
   "metadata": {},
   "outputs": [],
   "source": [
    "import rebound as rb\n",
    "import celmech as cm\n",
    "import numpy as np\n",
    "from celmech.secular import LaplaceLagrangeSystem"
   ]
  },
  {
   "cell_type": "code",
   "execution_count": 29,
   "id": "9fa93117",
   "metadata": {},
   "outputs": [],
   "source": [
    "sim=rb.Simulation(\"./full.sim\")\n",
    "sim_terr = rb.Simulation()\n",
    "sim_terr.units = sim.units\n",
    "for i in range(5):\n",
    "    sim_terr.add(sim.particles[i].copy())\n",
    "sim_terr.move_to_com()"
   ]
  },
  {
   "cell_type": "code",
   "execution_count": 30,
   "id": "701667fc",
   "metadata": {},
   "outputs": [
    {
     "data": {
      "text/plain": [
       "[0.38709927230796937,\n",
       " 0.7233272808259346,\n",
       " 0.9999896524114933,\n",
       " 1.523583726806037]"
      ]
     },
     "execution_count": 30,
     "metadata": {},
     "output_type": "execute_result"
    }
   ],
   "source": [
    "[p.a for p in sim_terr.particles[1:]]"
   ]
  },
  {
   "cell_type": "code",
   "execution_count": 38,
   "id": "235ffecc",
   "metadata": {},
   "outputs": [],
   "source": [
    "llsys = LaplaceLagrangeSystem.from_Simulation(sim)"
   ]
  },
  {
   "cell_type": "code",
   "execution_count": 40,
   "id": "30990850",
   "metadata": {},
   "outputs": [],
   "source": [
    "Se_full = llsys.Neccentricity_matrix"
   ]
  },
  {
   "cell_type": "code",
   "execution_count": 43,
   "id": "301f3448",
   "metadata": {},
   "outputs": [],
   "source": [
    "Se_terr = Se_full[:4,:4]"
   ]
  },
  {
   "cell_type": "code",
   "execution_count": 53,
   "id": "5073e5b5",
   "metadata": {},
   "outputs": [],
   "source": [
    "D,T = np.linalg.eigh(Se_terr)"
   ]
  },
  {
   "cell_type": "code",
   "execution_count": 54,
   "id": "cfa07739",
   "metadata": {},
   "outputs": [
    {
     "data": {
      "text/plain": [
       "array([[-8.73825356e-05, -6.77626358e-21, -6.77626358e-21,\n",
       "         8.47032947e-22],\n",
       "       [ 0.00000000e+00, -8.41607006e-05, -6.77626358e-21,\n",
       "         8.47032947e-22],\n",
       "       [-3.38813179e-21,  1.69406589e-21, -3.56398468e-05,\n",
       "         1.69406589e-21],\n",
       "       [-4.23516474e-22,  1.27054942e-21,  2.96461532e-21,\n",
       "        -2.64789246e-05]])"
      ]
     },
     "execution_count": 54,
     "metadata": {},
     "output_type": "execute_result"
    }
   ],
   "source": [
    "T.T @ Se_terr @ T "
   ]
  },
  {
   "cell_type": "code",
   "execution_count": 56,
   "id": "dba774b9",
   "metadata": {},
   "outputs": [
    {
     "data": {
      "text/plain": [
       "array([[4.98291031e-09, 2.03710990e-10, 4.07931034e-12, 6.55727771e-13],\n",
       "       [1.09502715e-07, 4.39986822e-09, 8.76319612e-11, 1.40715927e-11],\n",
       "       [3.06630939e-07, 1.20458502e-08, 2.38257903e-10, 3.82072447e-11],\n",
       "       [3.48299250e-07, 1.28142796e-08, 2.48564826e-10, 3.97116304e-11]])"
      ]
     },
     "execution_count": 56,
     "metadata": {},
     "output_type": "execute_result"
    }
   ],
   "source": [
    "Se_full[:4,4:]"
   ]
  },
  {
   "cell_type": "code",
   "execution_count": null,
   "id": "49c01656",
   "metadata": {},
   "outputs": [],
   "source": []
  }
 ],
 "metadata": {
  "kernelspec": {
   "display_name": "Python 3 (ipykernel)",
   "language": "python",
   "name": "python3"
  },
  "language_info": {
   "codemirror_mode": {
    "name": "ipython",
    "version": 3
   },
   "file_extension": ".py",
   "mimetype": "text/x-python",
   "name": "python",
   "nbconvert_exporter": "python",
   "pygments_lexer": "ipython3",
   "version": "3.9.7"
  }
 },
 "nbformat": 4,
 "nbformat_minor": 5
}
