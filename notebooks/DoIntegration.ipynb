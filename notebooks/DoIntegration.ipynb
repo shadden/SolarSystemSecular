{
 "cells": [
  {
   "cell_type": "code",
   "execution_count": 1,
   "id": "f50aa320",
   "metadata": {},
   "outputs": [],
   "source": [
    "import sys"
   ]
  },
  {
   "cell_type": "code",
   "execution_count": 2,
   "id": "a20e5f40",
   "metadata": {},
   "outputs": [],
   "source": [
    "import numpy as np"
   ]
  },
  {
   "cell_type": "code",
   "execution_count": 3,
   "id": "ed56cccc",
   "metadata": {},
   "outputs": [],
   "source": [
    "sys.path+=[\"../scripts/\"]"
   ]
  },
  {
   "cell_type": "code",
   "execution_count": 4,
   "id": "c42c2d51",
   "metadata": {},
   "outputs": [],
   "source": [
    "from ss_integration_utils import initialize_integrator"
   ]
  },
  {
   "cell_type": "code",
   "execution_count": 5,
   "id": "f22f9b44",
   "metadata": {},
   "outputs": [],
   "source": [
    "ig = initialize_integrator(5000)"
   ]
  },
  {
   "cell_type": "code",
   "execution_count": 6,
   "id": "f5e615e6",
   "metadata": {},
   "outputs": [],
   "source": [
    "Nsteps = int(1e5)\n",
    "Nout = int(5e3)\n",
    "y = np.load(\"inits.npy\")\n",
    "ytraj = np.zeros((Nout,y.shape[0]))\n",
    "time = np.zeros(Nout)"
   ]
  },
  {
   "cell_type": "code",
   "execution_count": 7,
   "id": "3a43141b",
   "metadata": {},
   "outputs": [
    {
     "data": {
      "text/latex": [
       "$\\displaystyle 20$"
      ],
      "text/plain": [
       "20"
      ]
     },
     "execution_count": 7,
     "metadata": {},
     "output_type": "execute_result"
    }
   ],
   "source": [
    "Nsteps//Nout"
   ]
  },
  {
   "cell_type": "code",
   "execution_count": 10,
   "id": "9bd619ac",
   "metadata": {},
   "outputs": [],
   "source": [
    "from ss_integration_utils import initialize_hamiltonian\n",
    "ham =initialize_hamiltonian()"
   ]
  },
  {
   "cell_type": "code",
   "execution_count": 15,
   "id": "8619a50a",
   "metadata": {},
   "outputs": [],
   "source": [
    "eta1=ham.qp_vars[0]"
   ]
  },
  {
   "cell_type": "code",
   "execution_count": 13,
   "id": "22677285",
   "metadata": {},
   "outputs": [
    {
     "data": {
      "text/latex": [
       "$\\displaystyle \\left[ \\left( \\eta_{1}, \\  \\kappa_{1}\\right), \\  \\left( \\eta_{2}, \\  \\kappa_{2}\\right), \\  \\left( \\eta_{3}, \\  \\kappa_{3}\\right), \\  \\left( \\eta_{4}, \\  \\kappa_{4}\\right)\\right]$"
      ],
      "text/plain": [
       "[(η₁, κ₁), (η₂, κ₂), (η₃, κ₃), (η₄, κ₄)]"
      ]
     },
     "execution_count": 13,
     "metadata": {},
     "output_type": "execute_result"
    }
   ],
   "source": [
    "[(ham.qp_vars[2*i],ham.qp_vars[2*i+11]) for i in range(4)]"
   ]
  },
  {
   "cell_type": "code",
   "execution_count": 8,
   "id": "1efc3c97",
   "metadata": {},
   "outputs": [],
   "source": [
    "j=0\n",
    "for i in np.arange(Nsteps):\n",
    "    if i % (Nsteps//Nout) == 0:\n",
    "        #print(\"output\")\n",
    "        time[j] = i * ig.dt\n",
    "        ytraj[j] = y\n",
    "        j+=1\n",
    "        np.savez(\"./integration_result\",trajectory=ytraj,time=time)\n",
    "    y=ig.rk_step(y)"
   ]
  }
 ],
 "metadata": {
  "kernelspec": {
   "display_name": "Python 3 (ipykernel)",
   "language": "python",
   "name": "python3"
  },
  "language_info": {
   "codemirror_mode": {
    "name": "ipython",
    "version": 3
   },
   "file_extension": ".py",
   "mimetype": "text/x-python",
   "name": "python",
   "nbconvert_exporter": "python",
   "pygments_lexer": "ipython3",
   "version": "3.9.7"
  }
 },
 "nbformat": 4,
 "nbformat_minor": 5
}
