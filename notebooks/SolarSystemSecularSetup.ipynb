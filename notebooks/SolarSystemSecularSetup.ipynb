{
 "cells": [
  {
   "cell_type": "code",
   "execution_count": 1,
   "id": "9346bc0f",
   "metadata": {},
   "outputs": [],
   "source": [
    "import rebound as rb\n",
    "import celmech as cm\n",
    "import numpy as np\n",
    "from celmech.secular import SecularSystemSimulation"
   ]
  },
  {
   "cell_type": "code",
   "execution_count": 2,
   "id": "788ede1b",
   "metadata": {},
   "outputs": [],
   "source": [
    "import matplotlib.pyplot as plt"
   ]
  },
  {
   "cell_type": "markdown",
   "id": "690c7339",
   "metadata": {},
   "source": [
    "# Full solar system"
   ]
  },
  {
   "cell_type": "code",
   "execution_count": 3,
   "id": "a1cdb912",
   "metadata": {},
   "outputs": [],
   "source": [
    "arc_sec_per_yr = 60*60*180 / np.pi\n",
    "try:\n",
    "    sim = rb.Simulation(\"full.sim\")\n",
    "except:\n",
    "    sim = rb.Simulation()\n",
    "    sim.units = (\"Msun\",\"AU\",\"yr\")\n",
    "    sim.add(\"Sun\")\n",
    "    sim.add(\"Mercury\")\n",
    "    sim.add(\"Venus\")\n",
    "    sim.add(\"Earth\")\n",
    "    sim.add(\"Mars\")\n",
    "    sim.add(\"Jupiter\")\n",
    "    sim.add(\"Saturn\")\n",
    "    sim.add(\"Uranus\")\n",
    "    sim.add(\"Neptune\")\n",
    "    sim.move_to_com()\n",
    "    sim.save(\"full.sim\")"
   ]
  },
  {
   "cell_type": "code",
   "execution_count": 4,
   "id": "08ae3efc",
   "metadata": {},
   "outputs": [],
   "source": [
    "pvars = cm.Poincare.from_Simulation(sim)\n",
    "pham = cm.PoincareHamiltonian(pvars)\n",
    "# terrestrial planets to 4th order\n",
    "for i in range(1,5):\n",
    "    for j in range(i+1,5):\n",
    "        pham.add_secular_terms(min_order=2,max_order=4,indexIn=i,indexOut=j)\n",
    "# terrestrial/giant coupling @ 4th order\n",
    "for i in range(1,5):\n",
    "    for j in range(5,9):\n",
    "        pham.add_secular_terms(2,4,indexIn=i,indexOut=j)"
   ]
  },
  {
   "cell_type": "code",
   "execution_count": 5,
   "id": "f025df79",
   "metadata": {},
   "outputs": [],
   "source": [
    "import sympy as sp"
   ]
  },
  {
   "cell_type": "markdown",
   "id": "6671276b",
   "metadata": {},
   "source": [
    "# parse synthetic secular theory data"
   ]
  },
  {
   "cell_type": "code",
   "execution_count": 7,
   "id": "49323ba6",
   "metadata": {},
   "outputs": [],
   "source": [
    "gvec = np.load(\"../synthetic_secular_soln/gvec.npy\")\n",
    "svec = np.load(\"../synthetic_secular_soln/svec.npy\")\n",
    "phase_e = np.load(\"../synthetic_secular_soln/phase_vec_e.npy\")\n",
    "phase_I = np.load(\"../synthetic_secular_soln/phase_vec_I.npy\")\n",
    "Smatrix_e = np.load(\"../synthetic_secular_soln/Secc_mtrx.npy\")\n",
    "Smatrix_I = np.load(\"../synthetic_secular_soln/Sinc_mtrx.npy\")"
   ]
  },
  {
   "cell_type": "markdown",
   "id": "e73ff2c6",
   "metadata": {},
   "source": [
    "$ \\eta_i  = \\sqrt{2\\Gamma_i}\\sin\\varpi_i \\approx \\sqrt{\\Lambda_i}e_i\\sin\\varpi_i = \\sqrt{\\Lambda_i}\\Im[{z_i}]$"
   ]
  },
  {
   "cell_type": "code",
   "execution_count": 47,
   "id": "fe5bd8a3",
   "metadata": {},
   "outputs": [],
   "source": [
    "#eta_kappa_pairs = [pham.qp_pairs[3 * i + 1] for i in range(4,8)]\n",
    "rule = dict()\n",
    "phi = sp.symbols(\"phi(5:9)\",real=True)\n",
    "psi = sp.symbols(\"psi(5:9)\",real=True)\n",
    "delta = sp.symbols(\"delta\")\n",
    "for i in range(4,8):\n",
    "    eta_i,kappa_i = pham.qp_pairs[3 * i + 1]\n",
    "    rho_i,sigma_i = pham.qp_pairs[3 * i + 2]\n",
    "    L0 = pham.Lambda0s[i+1].xreplace(pham.H_params)\n",
    "    rule[eta_i]   = -1 * delta * np.sqrt(L0) * (Smatrix_e[i,4] * sp.sin(phi[0]) + Smatrix_e[i,5] * sp.sin(phi[1]))\n",
    "    rule[kappa_i] =      delta * np.sqrt(L0) * (Smatrix_e[i,4] * sp.cos(phi[0]) + Smatrix_e[i,5] * sp.cos(phi[1]))\n",
    "    \n",
    "    rule[rho_i]   = -2 * delta * np.sqrt(L0) * (Smatrix_I[i,4] * sp.sin(phase_I[4]) + Smatrix_I[i,5] * sp.sin(psi[1]))\n",
    "    rule[sigma_i] =  2 * delta * np.sqrt(L0) * (Smatrix_I[i,4] * sp.cos(phase_I[4]) + Smatrix_I[i,5] * sp.cos(psi[1]))"
   ]
  },
  {
   "cell_type": "code",
   "execution_count": 48,
   "id": "69fb6982",
   "metadata": {},
   "outputs": [],
   "source": [
    "newham = pham.H.xreplace(rule)\n"
   ]
  },
  {
   "cell_type": "code",
   "execution_count": 49,
   "id": "d202ecfd",
   "metadata": {},
   "outputs": [],
   "source": [
    "Lambdas=set([pham.qp_pairs[3*i][1] for i in range(8)])\n",
    "newham = newham.func(*[a for a in newham.args if len(Lambdas.intersection(a.free_symbols)) == 0 ])"
   ]
  },
  {
   "cell_type": "code",
   "execution_count": 50,
   "id": "6ab18f29",
   "metadata": {},
   "outputs": [],
   "source": [
    "newham = (newham.xreplace({delta:0}) + newham.diff(delta).xreplace({delta:0}))"
   ]
  },
  {
   "cell_type": "code",
   "execution_count": 51,
   "id": "c6b417f3",
   "metadata": {},
   "outputs": [],
   "source": [
    "newham = newham.xreplace(pham.H_params)"
   ]
  },
  {
   "cell_type": "code",
   "execution_count": 52,
   "id": "cccdb812",
   "metadata": {},
   "outputs": [],
   "source": [
    "newham = newham.expand()"
   ]
  },
  {
   "cell_type": "code",
   "execution_count": 55,
   "id": "3c85c501",
   "metadata": {},
   "outputs": [],
   "source": [
    "planet_vars = [q for q,p in pham.qp_pairs if q in newham.free_symbols] + [p for q,p in pham.qp_pairs if q in newham.free_symbols]\n",
    "myvars  = [q for q,p in pham.qp_pairs if q in newham.free_symbols]\n",
    "myvars += list(sp.symbols(\"phi(5:7)\",real=True)) + list(sp.symbols(\"psi(6:7)\",real=True))\n",
    "myvars +=[p for q,p in pham.qp_pairs if p in newham.free_symbols] \n",
    "myvars += list(sp.symbols(\"Phi(5:7)\",real=True)) + list(sp.symbols(\"Psi(6:7)\",real=True))"
   ]
  },
  {
   "cell_type": "code",
   "execution_count": 135,
   "id": "24cc7803",
   "metadata": {},
   "outputs": [],
   "source": [
    "htot  = newham + myvars[-3] * gvec[4] + myvars[-2] * gvec[5] + myvars[-1] * svec[5]"
   ]
  },
  {
   "cell_type": "code",
   "execution_count": 136,
   "id": "c32f6a6c",
   "metadata": {},
   "outputs": [],
   "source": [
    "inits = {s:pham.qp[s] for s in planet_vars}\n",
    "inits[phi[0]] = phase_e[4]\n",
    "inits[phi[1]] = phase_e[5]\n",
    "inits[psi[1]] = phase_I[5]\n",
    "Phi = sp.symbols(\"Phi(5:7)\",real=True)\n",
    "Psi = sp.symbols(\"Psi(6:7)\",real=True)\n",
    "inits[Phi[0]] = 0\n",
    "inits[Phi[1]] = 0\n",
    "inits[Psi[0]] = 0\n",
    "values = np.array([inits[s] for s in myvars])"
   ]
  },
  {
   "cell_type": "code",
   "execution_count": 137,
   "id": "98221710",
   "metadata": {},
   "outputs": [],
   "source": [
    "state = cm.PhaseSpaceState(myvars,values)\n",
    "sham = cm.Hamiltonian(htot,{},state)"
   ]
  },
  {
   "cell_type": "code",
   "execution_count": 138,
   "id": "661ef435",
   "metadata": {},
   "outputs": [
    {
     "data": {
      "text/latex": [
       "$\\displaystyle -8.47552873311113 \\cdot 10^{-14}$"
      ],
      "text/plain": [
       "-8.475528733111131e-14"
      ]
     },
     "execution_count": 138,
     "metadata": {},
     "output_type": "execute_result"
    }
   ],
   "source": [
    "sham.calculate_energy()"
   ]
  },
  {
   "cell_type": "code",
   "execution_count": 127,
   "id": "646fb20c",
   "metadata": {},
   "outputs": [
    {
     "name": "stdout",
     "output_type": "stream",
     "text": [
      "CPU times: user 6.91 s, sys: 19.3 ms, total: 6.93 s\n",
      "Wall time: 6.97 s\n"
     ]
    }
   ],
   "source": [
    "%%time\n",
    "times = np.linspace(sham.t,sham.t+3e6,6)\n",
    "results = np.zeros((len(times),sham.N_dim))\n",
    "for i,t in enumerate(times):\n",
    "    sham.integrate(t)\n",
    "    results[i] = sham.values"
   ]
  },
  {
   "cell_type": "code",
   "execution_count": 134,
   "id": "f79dedad",
   "metadata": {},
   "outputs": [],
   "source": [
    "import pickle"
   ]
  },
  {
   "cell_type": "code",
   "execution_count": 141,
   "id": "38115792",
   "metadata": {},
   "outputs": [],
   "source": [
    "with open(\"secular_hamiltonian_4th_order.pkl\",\"wb\") as fi:\n",
    "    pickle.dump((htot,state),fi)"
   ]
  },
  {
   "cell_type": "code",
   "execution_count": 128,
   "id": "861c73fb",
   "metadata": {
    "scrolled": true
   },
   "outputs": [
    {
     "data": {
      "image/png": "[encoded data removed]",
      "text/plain": [
       "<Figure size 432x288 with 1 Axes>"
      ]
     },
     "metadata": {
      "needs_background": "light"
     },
     "output_type": "display_data"
    }
   ],
   "source": [
    "for i in range(1,5):\n",
    "    L10=pham.H_params[pham.Lambda0s[i]]\n",
    "    plt.plot(times/1e6,np.sqrt((results[:,2*i-2]**2 + results[:,12 + 2*i-2]**2)/L10))\n"
   ]
  },
  {
   "cell_type": "code",
   "execution_count": 130,
   "id": "7fe776c9",
   "metadata": {},
   "outputs": [],
   "source": [
    "sim.integrator = 'whfast'\n",
    "cm.nbody_simulation_utilities.set_time_step(sim,1/20.)"
   ]
  },
  {
   "cell_type": "code",
   "execution_count": 132,
   "id": "7d3047c2",
   "metadata": {},
   "outputs": [
    {
     "name": "stdout",
     "output_type": "stream",
     "text": [
      "CPU times: user 13min 28s, sys: 6.4 s, total: 13min 35s\n",
      "Wall time: 14min 3s\n"
     ]
    }
   ],
   "source": [
    "%%time\n",
    "sim.integrate(3e6)"
   ]
  },
  {
   "cell_type": "code",
   "execution_count": 82,
   "id": "c7668149",
   "metadata": {},
   "outputs": [],
   "source": [
    "from celmech.rk_integrator import RKIntegrator"
   ]
  },
  {
   "cell_type": "code",
   "execution_count": 87,
   "id": "6a902aa3",
   "metadata": {},
   "outputs": [],
   "source": [
    "def flow(y):\n",
    "    return sham.flow_func(*y).reshape(-1)\n",
    "def flow_and_jac(y):\n",
    "    return flow(y), sham.jacobian_func(*y)"
   ]
  },
  {
   "cell_type": "code",
   "execution_count": 92,
   "id": "715fee4c",
   "metadata": {},
   "outputs": [],
   "source": []
  },
  {
   "cell_type": "code",
   "execution_count": 107,
   "id": "c3faa7a3",
   "metadata": {},
   "outputs": [],
   "source": [
    "from celmech.miscellaneous import _machine_eps\n",
    "integrator = RKIntegrator(\n",
    "    flow,\n",
    "    flow_and_jac,\n",
    "    sham.N_dim,\n",
    "    h,\n",
    "    rtol=_machine_eps,\n",
    "    atol=1e-12,\n",
    "    rk_method='GL6',\n",
    "    rk_root_method='Newton',\n",
    "    max_iter=10\n",
    ")"
   ]
  },
  {
   "cell_type": "code",
   "execution_count": 169,
   "id": "c011bde0",
   "metadata": {},
   "outputs": [],
   "source": [
    "Psec = np.min((2 *np.pi / gvec))"
   ]
  },
  {
   "cell_type": "code",
   "execution_count": 167,
   "id": "96dfa2a1",
   "metadata": {},
   "outputs": [],
   "source": [
    "h = 0.05 * np.min((2 *np.pi / gvec))\n",
    "dts = h * np.logspace(0,1,8)\n",
    "steps = np.array(3e6//dts,dtype=int)\n",
    "dEs = []\n",
    "for dt,N in zip(dts,steps):\n",
    "    integrator.dt = dt\n",
    "    y = np.array(sham.values)\n",
    "    E = np.zeros(N)\n",
    "    for i in range(N):\n",
    "        E[i] = sham.H_func(*y)\n",
    "        y = integrator.rk_step(y)\n",
    "    dEs.append(np.sqrt(np.var((E-np.mean(E))/np.mean(E))))"
   ]
  },
  {
   "cell_type": "code",
   "execution_count": 174,
   "id": "cf2d8e49",
   "metadata": {},
   "outputs": [
    {
     "data": {
      "text/plain": [
       "<matplotlib.lines.Line2D at 0x7fe700cb8550>"
      ]
     },
     "execution_count": 174,
     "metadata": {},
     "output_type": "execute_result"
    },
    {
     "data": {
      "image/png": "[encoded data removed]",
      "text/plain": [
       "<Figure size 432x288 with 1 Axes>"
      ]
     },
     "metadata": {
      "needs_background": "light"
     },
     "output_type": "display_data"
    }
   ],
   "source": [
    "plt.plot(dts/Psec,dEs,'ks-')\n",
    "plt.plot(dts/Psec,(dEs[0]) * (dts/dts[0])**6 ,'r--')\n",
    "plt.xscale('log')\n",
    "plt.yscale('log')\n",
    "plt.axvline(1/4)\n",
    "plt.axvline(1/8)"
   ]
  },
  {
   "cell_type": "code",
   "execution_count": 114,
   "id": "b1bff2c6",
   "metadata": {},
   "outputs": [],
   "source": [
    "N = 1000\n",
    "\n",
    "ytraj = np.zeros((N,y.shape[0]))\n",
    "for i in range(N):\n",
    "    ytraj[i] = y\n",
    "    y = integrator.rk_step(y)"
   ]
  },
  {
   "cell_type": "code",
   "execution_count": 115,
   "id": "7a4cacb9",
   "metadata": {},
   "outputs": [
    {
     "data": {
      "text/plain": [
       "[<matplotlib.lines.Line2D at 0x7fe6fc0722e0>]"
      ]
     },
     "execution_count": 115,
     "metadata": {},
     "output_type": "execute_result"
    },
    {
     "data": {
      "image/png": "[encoded data removed]",
      "text/plain": [
       "<Figure size 432x288 with 1 Axes>"
      ]
     },
     "metadata": {
      "needs_background": "light"
     },
     "output_type": "display_data"
    }
   ],
   "source": [
    "plt.plot(np.arange(N) * h/(1e6),ytraj[:,0])"
   ]
  },
  {
   "cell_type": "code",
   "execution_count": 141,
   "id": "9d3051e0",
   "metadata": {},
   "outputs": [
    {
     "name": "stdout",
     "output_type": "stream",
     "text": [
      "[-2.79235991 -5.84881799 -4.08695507 -2.28611239]\n",
      "[-4.10242254 -5.9269948  -1.8756583  -1.76057779]\n",
      "[-4.1021111  -6.23960361 -1.87586246 -1.76058906]\n",
      "[-2.84988763 -1.89070206 -1.78449157 -6.19730675]\n"
     ]
    }
   ],
   "source": [
    "N= len(times)\n",
    "Nfreq = 4\n",
    "for i in range(1,5):\n",
    "    z=(results[:,12 + 2*i-2]-1j*results[:,2*i-2])/np.sqrt(L10)\n",
    "    res1=fmft(times[:N//2],z[:N//2],Nfreq)\n",
    "    res2=fmft(times[N//2:],z[N//2:],Nfreq)\n",
    "    freqs1 = np.array(list(res1.keys()))\n",
    "    freqs2 =  np.array(list(res2.keys()))\n",
    "    print(np.log10(0.5 * np.abs((freqs2 - freqs1) / (freqs2 + freqs1))))"
   ]
  },
  {
   "cell_type": "markdown",
   "id": "33ea7251",
   "metadata": {},
   "source": [
    "# Numerical secular solution for giant planets"
   ]
  },
  {
   "cell_type": "code",
   "execution_count": null,
   "id": "7b14ceb3",
   "metadata": {},
   "outputs": [],
   "source": [
    "rm outer_solar_system_10Myr.sa"
   ]
  },
  {
   "cell_type": "code",
   "execution_count": null,
   "id": "d58f3cd3",
   "metadata": {},
   "outputs": [],
   "source": [
    "save_file = \"outer_solar_system_10Myr.sa\"\n",
    "bodies = [\"Sun\",\"Jupiter\",\"Saturn\",\"Uranus\",\"Neptune\"]\n",
    "\n",
    "\n",
    "from celmech.nbody_simulation_utilities import get_simarchive_integration_results\n",
    "try:\n",
    "    results = get_simarchive_integration_results(save_file)\n",
    "except:\n",
    "    sim = rb.Simulation()\n",
    "    sim.units = (\"Msun\",\"AU\",\"yr\")\n",
    "    for body in bodies:\n",
    "        sim.add(body)\n",
    "    sim.move_to_com()\n",
    "    sim.integrator = 'whfast'\n",
    "    sim.ri_whfast.safe_mode=0\n",
    "    cm.nbody_simulation_utilities.set_time_step(sim,1/30)\n",
    "\n",
    "    Tfin = 4*1e7\n",
    "    Nout = 4*512\n",
    "\n",
    "    sim.automateSimulationArchive(save_file,interval=Tfin/Nout,deletefile=True)\n",
    "\n",
    "    sim.integrate(Tfin)\n",
    "    results = get_simarchive_integration_results(save_file)"
   ]
  },
  {
   "cell_type": "code",
   "execution_count": null,
   "id": "5fc4709c",
   "metadata": {},
   "outputs": [],
   "source": [
    "# from M&D pg. 303\n",
    "gtrue = np.array([4.29591,27.77406])"
   ]
  },
  {
   "cell_type": "code",
   "execution_count": null,
   "id": "caeb2ced",
   "metadata": {},
   "outputs": [],
   "source": [
    "from celmech.miscellaneous import frequency_modified_fourier_transform\n",
    "\n",
    "# Calculate complex eccentricities\n",
    "results['z'] = results['e'] * np.exp(1j * results['pomega'])\n",
    "\n",
    "# Number of Fourier harmonics to calculate for each planet\n",
    "Nfreq=6\n",
    "\n",
    "time = results['time']\n",
    "arc_sec_per_yr = 60*60*180 / np.pi\n",
    "\n",
    "ampdict = dict()\n",
    "title=\"Frequency [\\\"/yr] | Amplitude\"\n",
    "print(title)\n",
    "print(\"=\"*len(title))\n",
    "for i,planet in enumerate(bodies[1:]):\n",
    "    print(planet)\n",
    "    print(\"-\"*len(planet))\n",
    "\n",
    "\n",
    "    # Calculate results\n",
    "    z = results['z'][i]\n",
    "    freq_results = frequency_modified_fourier_transform(time,z,Nfreq)\n",
    "    \n",
    "    \n",
    "    # results are stored as a dictionary with entries\n",
    "    # in the form: {nu_j:a_j}\n",
    "    \n",
    "    for freq,amp in freq_results.items():\n",
    "        freq_scaled = freq * arc_sec_per_yr\n",
    "        mode_i = 5 + np.argmin(np.abs(gtrue - freq_scaled))\n",
    "        abs_amp = np.abs(amp)\n",
    "        if np.abs(gtrue[mode_i-5]-freq_scaled) < 0.1 * freq_scaled:\n",
    "            print(mode_i,freq_scaled)\n",
    "            ampdict[sp.symbols(\"a{0}{1}\".format(5+i,mode_i))] = abs_amp\n",
    "        print(\"{:+.2f}\\t\\t|\\t{:.4f}\".format(freq_scaled, abs_amp))\n",
    "print(\"\\n\")"
   ]
  },
  {
   "cell_type": "code",
   "execution_count": null,
   "id": "96e16fdb",
   "metadata": {
    "scrolled": false
   },
   "outputs": [],
   "source": [
    "strue = np.array([0.0,-26.])\n",
    "\n",
    "\n",
    "# Calculate complex eccentricities\n",
    "results['zeta'] = np.sin(0.5 * results['inc']) * np.exp(1j * results['Omega'])\n",
    "\n",
    "# Number of Fourier harmonics to calculate for each planet\n",
    "Nfreq=4\n",
    "\n",
    "time = results['time']\n",
    "arc_sec_per_yr = 60*60*180 / np.pi\n",
    "\n",
    "\n",
    "title=\"Frequency [\\\"/yr] | Amplitude\"\n",
    "print(title)\n",
    "print(\"=\"*len(title))\n",
    "for i,planet in enumerate(bodies[1:]):\n",
    "    print(planet)\n",
    "    print(\"-\"*len(planet))\n",
    "\n",
    "\n",
    "    # Calculate results\n",
    "    z = results['zeta'][i]\n",
    "    freq_results = frequency_modified_fourier_transform(time,z,Nfreq)\n",
    "    \n",
    "    \n",
    "    # results are stored as a dictionary with entries\n",
    "    # in the form: {nu_j:a_j}\n",
    "    \n",
    "    for freq,amp in freq_results.items():\n",
    "        freq_scaled = freq * arc_sec_per_yr\n",
    "        mode_i = 5 + np.argmin(np.abs(strue - freq_scaled))\n",
    "        abs_amp = np.abs(amp)\n",
    "        if np.abs(strue[mode_i-5]-freq_scaled) < .5:\n",
    "            print(mode_i,freq_scaled)\n",
    "            ampdict[sp.symbols(\"b{0}{1}\".format(5+i,mode_i))] = abs_amp\n",
    "        print(\"{:+.2f}\\t\\t|\\t{:.4f}\".format(freq_scaled, abs_amp))\n",
    "print(\"\\n\")"
   ]
  },
  {
   "cell_type": "code",
   "execution_count": null,
   "id": "9b963bef",
   "metadata": {},
   "outputs": [],
   "source": [
    "ampdict"
   ]
  },
  {
   "cell_type": "code",
   "execution_count": null,
   "id": "87a1ce2e",
   "metadata": {},
   "outputs": [],
   "source": [
    "2757/1e5 * 0.5"
   ]
  },
  {
   "cell_type": "code",
   "execution_count": null,
   "id": "91a229a9",
   "metadata": {},
   "outputs": [],
   "source": []
  },
  {
   "cell_type": "code",
   "execution_count": null,
   "id": "d66cc1ca",
   "metadata": {},
   "outputs": [],
   "source": [
    "a"
   ]
  },
  {
   "cell_type": "code",
   "execution_count": null,
   "id": "91ce8913",
   "metadata": {},
   "outputs": [],
   "source": [
    "{key:val.subs(amp_values_dict) for key,val in rule.items()}"
   ]
  },
  {
   "cell_type": "code",
   "execution_count": null,
   "id": "14a7c43a",
   "metadata": {},
   "outputs": [],
   "source": [
    "rule"
   ]
  },
  {
   "cell_type": "code",
   "execution_count": null,
   "id": "23efca07",
   "metadata": {},
   "outputs": [],
   "source": [
    "ampdict"
   ]
  },
  {
   "cell_type": "markdown",
   "id": "26e0f7cc",
   "metadata": {},
   "source": [
    "# extras"
   ]
  },
  {
   "cell_type": "code",
   "execution_count": null,
   "id": "dbb62375",
   "metadata": {},
   "outputs": [],
   "source": []
  },
  {
   "cell_type": "code",
   "execution_count": 100,
   "id": "424db864",
   "metadata": {},
   "outputs": [],
   "source": [
    "from celmech.disturbing_function import list_secular_terms"
   ]
  },
  {
   "cell_type": "code",
   "execution_count": 101,
   "id": "a286f1f5",
   "metadata": {},
   "outputs": [],
   "source": [
    "def outer_planet_element_power(k,nu):\n",
    "    _,_,_,k4,_,k6 = k\n",
    "    _,nu2,_,nu4 = nu\n",
    "    return np.abs(k4) + np.abs(k6) + 2 * nu2 + 2 * nu4"
   ]
  },
  {
   "cell_type": "code",
   "execution_count": 102,
   "id": "dfc6d646",
   "metadata": {},
   "outputs": [],
   "source": [
    "gp_terms=[t for t in list_secular_terms(2,4) if outer_planet_element_power(*t)<2]"
   ]
  },
  {
   "cell_type": "code",
   "execution_count": 103,
   "id": "ab983c40",
   "metadata": {},
   "outputs": [
    {
     "data": {
      "text/latex": [
       "$\\displaystyle \\left( 14, \\  37\\right)$"
      ],
      "text/plain": [
       "(14, 37)"
      ]
     },
     "execution_count": 103,
     "metadata": {},
     "output_type": "execute_result"
    }
   ],
   "source": [
    "len(gp_terms),len(list_secular_terms(2,4))"
   ]
  }
 ],
 "metadata": {
  "kernelspec": {
   "display_name": "Python 3 (ipykernel)",
   "language": "python",
   "name": "python3"
  },
  "language_info": {
   "codemirror_mode": {
    "name": "ipython",
    "version": 3
   },
   "file_extension": ".py",
   "mimetype": "text/x-python",
   "name": "python",
   "nbconvert_exporter": "python",
   "pygments_lexer": "ipython3",
   "version": "3.9.7"
  }
 },
 "nbformat": 4,
 "nbformat_minor": 5
}
